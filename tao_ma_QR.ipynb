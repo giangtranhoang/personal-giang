{
  "nbformat": 4,
  "nbformat_minor": 0,
  "metadata": {
    "colab": {
      "provenance": []
    },
    "kernelspec": {
      "name": "python3",
      "display_name": "Python 3"
    },
    "language_info": {
      "name": "python"
    }
  },
  "cells": [
    {
      "cell_type": "code",
      "metadata": {
        "colab": {
          "base_uri": "https://localhost:8080/"
        },
        "id": "982da396",
        "outputId": "0b196694-c50e-46d7-e66d-de30038e850e"
      },
      "source": [
        "%pip install qrcode\n",
        "import qrcode\n",
        "\n",
        "url = \"https://giangtranhoang.github.io/personal-giang/\"\n",
        "img = qrcode.make(url)\n",
        "img.save(\"my_qr.png\")\n",
        "\n",
        "print(\"Mã QR đã được tạo và lưu dưới tên 'my_qrcode.png'\")"
      ],
      "execution_count": 11,
      "outputs": [
        {
          "output_type": "stream",
          "name": "stdout",
          "text": [
            "Requirement already satisfied: qrcode in /usr/local/lib/python3.12/dist-packages (8.2)\n",
            "Mã QR đã được tạo và lưu dưới tên 'my_qrcode.png'\n"
          ]
        }
      ]
    }
  ]
}